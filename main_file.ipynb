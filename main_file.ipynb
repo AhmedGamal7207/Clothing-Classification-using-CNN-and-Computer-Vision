{
  "nbformat": 4,
  "nbformat_minor": 0,
  "metadata": {
    "colab": {
      "provenance": []
    },
    "kernelspec": {
      "name": "python3",
      "display_name": "Python 3"
    },
    "language_info": {
      "name": "python"
    }
  },
  "cells": [
    {
      "cell_type": "code",
      "execution_count": 2,
      "metadata": {
        "id": "PrZtEWWuU2I_",
        "colab": {
          "base_uri": "https://localhost:8080/"
        },
        "outputId": "e1458efc-9869-4fc0-91c8-a3ceeffc11bf"
      },
      "outputs": [
        {
          "output_type": "stream",
          "name": "stdout",
          "text": [
            "mzmz\n"
          ]
        }
      ],
      "source": [
        "print(\"mzmz\")"
      ]
    },
    {
      "cell_type": "code",
      "source": [
        "print(\"mzmzzzzz\")"
      ],
      "metadata": {
        "id": "iwrMwdVbWliq",
        "outputId": "c6184b1f-c918-4870-8a3f-30d1f4d29fb8",
        "colab": {
          "base_uri": "https://localhost:8080/"
        }
      },
      "execution_count": 3,
      "outputs": [
        {
          "output_type": "stream",
          "name": "stdout",
          "text": [
            "mzmzzzzz\n"
          ]
        }
      ]
    }
  ]
}