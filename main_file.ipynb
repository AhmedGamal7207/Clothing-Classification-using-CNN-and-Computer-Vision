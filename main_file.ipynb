{
  "cells": [
    {
      "cell_type": "code",
      "execution_count": null,
      "metadata": {
        "colab": {
          "base_uri": "https://localhost:8080/"
        },
        "id": "PrZtEWWuU2I_",
        "outputId": "e1458efc-9869-4fc0-91c8-a3ceeffc11bf"
      },
      "outputs": [
        {
          "name": "stdout",
          "output_type": "stream",
          "text": [
            "mzmz\n"
          ]
        }
      ],
      "source": [
        "print(\"mzmz\")"
      ]
    },
    {
      "cell_type": "code",
      "execution_count": null,
      "metadata": {
        "colab": {
          "base_uri": "https://localhost:8080/"
        },
        "id": "iwrMwdVbWliq",
        "outputId": "c6184b1f-c918-4870-8a3f-30d1f4d29fb8"
      },
      "outputs": [
        {
          "name": "stdout",
          "output_type": "stream",
          "text": [
            "mzmzzzzz\n"
          ]
        }
      ],
      "source": [
        "print(\"mzmzzzzz\")"
      ]
    },
    {
      "cell_type": "code",
      "execution_count": null,
      "metadata": {
        "id": "rm0D1K3PXZfw",
        "outputId": "12168bb3-78e6-4155-adbf-963a9516063d"
      },
      "outputs": [
        {
          "name": "stdout",
          "output_type": "stream",
          "text": [
            "ma 2olna mzmzzzzzzzz\n"
          ]
        }
      ],
      "source": [
        "print(\"ma 2olna mzmzzzzzzzz\")"
      ]
    },
    {
      "cell_type": "code",
      "source": [
        "with open(\"test.txt\",\"wb\") as fil:\n",
        "  fil.write(b\"mzmz\")"
      ],
      "metadata": {
        "id": "9G1ZG6Y-X2w5"
      },
      "execution_count": 1,
      "outputs": []
    }
  ],
  "metadata": {
    "colab": {
      "provenance": []
    },
    "kernelspec": {
      "display_name": "Python 3",
      "name": "python3"
    },
    "language_info": {
      "codemirror_mode": {
        "name": "ipython",
        "version": 3
      },
      "file_extension": ".py",
      "mimetype": "text/x-python",
      "name": "python",
      "nbconvert_exporter": "python",
      "pygments_lexer": "ipython3",
      "version": "3.10.4"
    }
  },
  "nbformat": 4,
  "nbformat_minor": 0
}